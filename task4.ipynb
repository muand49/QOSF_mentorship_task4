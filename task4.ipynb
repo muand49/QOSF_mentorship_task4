{
 "cells": [
  {
   "cell_type": "markdown",
   "metadata": {},
   "source": [
    "# QOSF screening task 4 - QAOA implementation for Weighted MaxCut problems\n",
    "\n",
    "## Table of contents\n",
    "\n",
    "1. [Task definition](#Task-definition)\n",
    "1. [Background](#Background)\n",
    "1. [Implementation](#Implementation)\n",
    "1. [Future improvements](#Future-improvements)\n",
    "1. [References](#References)"
   ]
  },
  {
   "cell_type": "markdown",
   "metadata": {},
   "source": [
    "## Task definition\n",
    "\n",
    "This is the original description, as received:\n",
    "\n",
    "The [MaxCut problem](https://en.wikipedia.org/wiki/Maximum_cut) is a well-known optimization problem in which the nodes of a given undirected graph have to be divided in two sets (often referred as the set of “white” and “black” nodes) such that the number of edges connecting a white node with a black node are maximized. The MaxCut problem is a problem on which the QAOA algorithm has proved to be useful (for an explanation of the QAOA algorithm you can read [this blogpost](https://www.mustythoughts.com/quantum-approximate-optimization-algorithm-explained)).\n",
    "\n",
    "At this [link](https://lucaman99.github.io/new_blog/2020/mar16.html) you can find an explicit implementation of the QAOA algorithm to solve the MaxCut problem for the simpler case of an unweighted graph. **We ask you to generalize the above code to include also the solution for the case of weighted graphs**. You can use the same code or you can also do an alternative implementation using, for example, qiskit. The important point is that you do not make use of any built-in QAOA functionalities.\n",
    "\n"
   ]
  },
  {
   "cell_type": "markdown",
   "metadata": {},
   "source": [
    "## Background\n",
    "\n",
    "### The MaxCut problem\n",
    "The MaxCut problem is a combinatorial optimization problem that can be defined as follows:\n",
    "\n",
    "Given a graph $G = (V, E)$ with $V$ vertices and $E$ edges, find a subset $S \\in V$ such that the number of edges between $S$ and $S \\setminus V$ is maximized ([1]). This is a particular case of weighted MaxCut, where all of the $E$ edges have a weight $w = 1$. For arbitrary weights, the objective becomes to find a subset $S \\in V$ such that $\\sum_{e \\in cut} w_{e}$ is maximized, where $cut \\subset E$ is the set of edges connecting $S$ and $S \\setminus V$. \n",
    "\n",
    "This set of problems is equivalent with the search for the ground state of an antiferromagnetic Ising model.\n",
    "\n",
    "### Ising model\n",
    "\n",
    "The Ising model is an objective function of $N$ variables  $s = [s_1,...,s_N]$  corresponding to physical Ising spins, where $h_i$ are the biases and $J_{i,j}$ the couplings (interactions) between spins.\n",
    "\n",
    "$${E(s|h,J) = \\sum_{i=1}^N h_{i} s_{i}+ \\sum_{i<j}^N J_{i,j} s_{i}s_{j}} \\ \\ \\ \\ \\ \\ \\ \\ {s_{i} \\in {-1,+1}}$$\n",
    "\n",
    "### Quantum Approximate Optimization Algorithm (QAOA)\n",
    "The Quantum Aproximate Optimization Algorithm (QAOA) is a hybrid classical/quantum algorithm that is specialized on solving combinatorial optimization problems on near-term machines. \n",
    "\n",
    "QAOA defines the problem as a parametrized objective function that is translated into layered quantum circuits with one and two-qubit gates. The parameters are optimized by classical approaches in order to generate distributions with significant support on the optimal solution.\n",
    "\n",
    "QAOA only aproximates the optimal solutions and the quality of its approximation depends on increasing the number of layers as part of the trotterization technique. \n",
    "\n",
    "Even though QAOA uses different aproaches and only approximates the ground state, by choosing specific sets of parameters QAOA can mimic a time-discretization of Adiabiatic Quantum Computing (AQC). \n",
    "\n",
    "\n",
    "QAOA is defined as:\n",
    "$$ |\\gamma, \\beta \\rangle = U(H_B, \\beta_p) U(H_C, \\gamma_p) … U(H_B, \\beta_1) U(H_C, \\gamma_1) | s \\rangle$$  $$ U(H_B, \\beta) = e^{-i \\beta H_B} $$ $$ U(H_C, \\gamma) = e^{-i \\gamma H_C}$$ \n",
    "\n",
    "$ |s\\rangle $ is the starting state, usually $|0...0 \\rangle$ or $H | 0...0 \\rangle = |+...+ \\rangle$ and $p$ is usually called “number of steps/layers”.\n",
    "\n",
    "\n",
    "Applying $U_B$ (mixer operator) and $U_C$ (cost operator) corresponds to evolving the state with the Hamiltonian $H_B$ and $H_C$ for time $\\beta$ and $\\gamma$. The parameters $\\beta$  and $\\gamma$ are often called “angles”.\n",
    "\n"
   ]
  },
  {
   "cell_type": "markdown",
   "metadata": {},
   "source": [
    "## Implementation\n",
    "\n",
    "**Input:** A weighted graph. We encode its vertices as a bit string of $0$ and $1$, where the values  represent the 2 partitions. \n",
    "\n",
    "**Output:** A bit string of the same shape and format as the encoded input, giving us a computed graph cut.\n",
    "\n",
    "### Implementation steps:\n",
    "\n",
    "1. [Encode the problem](#Encode-the-problem)\n",
    "    * [Define the cost operator $U_{C}$ based on:](#Define-the-cost-operator-$U_{C}$)\n",
    "\n",
    "    $$H_{C} = \\frac{1}{2}\\displaystyle \\sum_{(i, j) \\in E}w_{i,j}(1 - \\sigma_i^z\\sigma_j^z)$$\n",
    "    \n",
    "    * [Define the mixer operator $U_{B}$ based on:](#Define-the-mixer-operator-$U_{B}$)\n",
    "\n",
    "    $$H_B = \\sum_{j=0}^n \\sigma_j^x$$\n",
    "   \n",
    "1. [Build the circuit](#Build-circuit) \n",
    "    * a layer of Hadamard gates to prepare the initial state\n",
    "    * $p$ layers of $U_C$ and $U_B$ in an alternating fashion\n",
    "    * a layer of measurement gates \n",
    "    \n",
    "1. [Define objective function](#Define-objective-function)\n",
    "\n",
    "    * calculate the expected system energy as the average of  \n",
    "$$cost(cut) = \\sum_{e \\in cut} w_{e}$$ over all of the cuts generated with the current parameters $\\gamma$ and $\\beta$\n",
    "      \n",
    "1. [Optimize params](#Optimize-parameters)\n",
    "    * minimize the objective function using the COBYLA optimizer from scipy\n",
    "\n",
    "1. [Extract and interpret results](#Extract-and-interpret-results)\n",
    "    * generate a random weighted 3-regular graph\n",
    "    * set initial parameters\n",
    "    * get best parameters from runing the optimizer\n",
    "    * run the circuit with the calculated parameters\n",
    "    * display best solution\n",
    "    * calculate and display the energy distribution of the samples"
   ]
  },
  {
   "cell_type": "code",
   "execution_count": 1,
   "metadata": {},
   "outputs": [],
   "source": [
    "from collections import defaultdict\n",
    "\n",
    "import matplotlib.pyplot as plt\n",
    "import networkx as nx\n",
    "import numpy as np\n",
    "\n",
    "from networkx.generators.random_graphs import random_regular_graph\n",
    "from operator import itemgetter\n",
    "from qiskit import Aer, QuantumCircuit, QuantumRegister, ClassicalRegister, execute\n",
    "from scipy.optimize import minimize"
   ]
  },
  {
   "cell_type": "code",
   "execution_count": 2,
   "metadata": {},
   "outputs": [],
   "source": [
    "np.random.seed(99)\n",
    "\n",
    "def invert_counts(counts):\n",
    "    '''Utility function for inverting Qiskit results'''\n",
    "    return {k[::-1]:v for k, v in counts.items()}"
   ]
  },
  {
   "cell_type": "code",
   "execution_count": 3,
   "metadata": {},
   "outputs": [
    {
     "data": {
      "image/png": "[encoded data removed]",
      "text/plain": [
       "<Figure size 432x288 with 1 Axes>"
      ]
     },
     "metadata": {},
     "output_type": "display_data"
    }
   ],
   "source": [
    "# Sample graph for operator validation\n",
    "graph = [(0, 1, 10), (0, 3, 20), (1, 2, 30), (2, 3, 42)]\n",
    "\n",
    "G = nx.Graph()\n",
    "G.add_weighted_edges_from(graph)\n",
    "nx.draw(G)"
   ]
  },
  {
   "cell_type": "markdown",
   "metadata": {},
   "source": [
    "### Encode the problem"
   ]
  },
  {
   "cell_type": "markdown",
   "metadata": {},
   "source": [
    "### Define the cost operator $U_{C}$\n",
    "\n",
    "This can be implemented in qiskit using $P$ and $CP$ gates:\n",
    "\n",
    "$$P(\\theta) = \\left[\\begin{matrix}\n",
    "1 & 0 \\\\\n",
    "0 & e^{i\\theta}\n",
    "\\end{matrix}\\right] \\ \\ \\ \\ \\ \\ \\ CP(\\theta) = \\left[\\begin{matrix}\n",
    "1 & 0 & 0 & 0 \\\\\n",
    "0 & 1 & 0 & 0 \\\\\n",
    "0 & 0 & 1 & 0 \\\\\n",
    "0 & 0 & 0 & e^{i\\theta}\n",
    "\\end{matrix}\\right] \\ \\ \\ \\ \\ \\ \\ P(\\lambda)\\otimes P({\\theta}) = \\left[\\begin{matrix}\n",
    "1 & 0 & 0 & 0 \\\\\n",
    "0 & e^{i\\lambda} & 0 & 0 \\\\\n",
    "0 & 0 & e^{i\\theta} & 0 \\\\\n",
    "0 & 0 & 0 & e^{i(\\lambda+\\theta)}\n",
    "\\end{matrix}\\right]$$\n",
    "\n",
    "This brings us to the following implementation, where the vertices belonging to the same subset won't be affected:"
   ]
  },
  {
   "cell_type": "code",
   "execution_count": 4,
   "metadata": {},
   "outputs": [],
   "source": [
    "def U_C(G, gamma):\n",
    "    N = G.number_of_nodes()\n",
    "    qc = QuantumCircuit(N,N)\n",
    "    for qj, qk in G.edges():\n",
    "        qc.cp(-2*gamma, qj, qk)\n",
    "        qc.p(gamma, qj)\n",
    "        qc.p(gamma, qk)\n",
    "    return qc"
   ]
  },
  {
   "cell_type": "code",
   "execution_count": 5,
   "metadata": {},
   "outputs": [
    {
     "data": {
      "text/html": [
       "<pre style=\"word-wrap: normal;white-space: pre;background: #fff0;line-height: 1.1;font-family: &quot;Courier New&quot;,Courier,monospace\">              ┌────────┐         ┌────────┐                             \n",
       "q_0: ────■────┤ P(π/2) ├────■────┤ P(π/2) ├─────────────────────────────\n",
       "     ┌───┴───┐├────────┤    │    └────────┘┌────────┐                   \n",
       "q_1: ┤ P(-π) ├┤ P(π/2) ├────┼────────■─────┤ P(π/2) ├───────────────────\n",
       "     └───────┘└────────┘    │    ┌───┴───┐ ├────────┤┌───────┐┌────────┐\n",
       "q_2: ───────────────────────┼────┤ P(-π) ├─┤ P(π/2) ├┤ P(-π) ├┤ P(π/2) ├\n",
       "                        ┌───┴───┐├───────┴┐└────────┘└───┬───┘├────────┤\n",
       "q_3: ───────────────────┤ P(-π) ├┤ P(π/2) ├──────────────■────┤ P(π/2) ├\n",
       "                        └───────┘└────────┘                   └────────┘\n",
       "c: 4/═══════════════════════════════════════════════════════════════════\n",
       "                                                                        </pre>"
      ],
      "text/plain": [
       "              ┌────────┐         ┌────────┐                             \n",
       "q_0: ────■────┤ P(π/2) ├────■────┤ P(π/2) ├─────────────────────────────\n",
       "     ┌───┴───┐├────────┤    │    └────────┘┌────────┐                   \n",
       "q_1: ┤ P(-π) ├┤ P(π/2) ├────┼────────■─────┤ P(π/2) ├───────────────────\n",
       "     └───────┘└────────┘    │    ┌───┴───┐ ├────────┤┌───────┐┌────────┐\n",
       "q_2: ───────────────────────┼────┤ P(-π) ├─┤ P(π/2) ├┤ P(-π) ├┤ P(π/2) ├\n",
       "                        ┌───┴───┐├───────┴┐└────────┘└───┬───┘├────────┤\n",
       "q_3: ───────────────────┤ P(-π) ├┤ P(π/2) ├──────────────■────┤ P(π/2) ├\n",
       "                        └───────┘└────────┘                   └────────┘\n",
       "c: 4/═══════════════════════════════════════════════════════════════════\n",
       "                                                                        "
      ]
     },
     "execution_count": 5,
     "metadata": {},
     "output_type": "execute_result"
    }
   ],
   "source": [
    "# Draw U_C for validation\n",
    "qc = U_C(G, np.pi / 2)\n",
    "qc.draw()"
   ]
  },
  {
   "cell_type": "markdown",
   "metadata": {},
   "source": [
    "### Define the mixer operator $U_{B}$\n"
   ]
  },
  {
   "cell_type": "code",
   "execution_count": 6,
   "metadata": {},
   "outputs": [],
   "source": [
    "def U_B(G, beta):\n",
    "    N = G.number_of_nodes()\n",
    "    qc = QuantumCircuit(N,N)\n",
    "    for q in G.nodes():\n",
    "        qc.rx(2*beta, q)\n",
    "    return qc"
   ]
  },
  {
   "cell_type": "code",
   "execution_count": 7,
   "metadata": {},
   "outputs": [
    {
     "data": {
      "text/html": [
       "<pre style=\"word-wrap: normal;white-space: pre;background: #fff0;line-height: 1.1;font-family: &quot;Courier New&quot;,Courier,monospace\">     ┌──────────┐\n",
       "q_0: ┤ RX(2π/3) ├\n",
       "     ├──────────┤\n",
       "q_1: ┤ RX(2π/3) ├\n",
       "     ├──────────┤\n",
       "q_2: ┤ RX(2π/3) ├\n",
       "     ├──────────┤\n",
       "q_3: ┤ RX(2π/3) ├\n",
       "     └──────────┘\n",
       "c: 4/════════════\n",
       "                 </pre>"
      ],
      "text/plain": [
       "     ┌──────────┐\n",
       "q_0: ┤ RX(2π/3) ├\n",
       "     ├──────────┤\n",
       "q_1: ┤ RX(2π/3) ├\n",
       "     ├──────────┤\n",
       "q_2: ┤ RX(2π/3) ├\n",
       "     ├──────────┤\n",
       "q_3: ┤ RX(2π/3) ├\n",
       "     └──────────┘\n",
       "c: 4/════════════\n",
       "                 "
      ]
     },
     "execution_count": 7,
     "metadata": {},
     "output_type": "execute_result"
    }
   ],
   "source": [
    "# Draw U_B for validation\n",
    "qc = U_B(G, np.pi/3)\n",
    "qc.draw()"
   ]
  },
  {
   "cell_type": "markdown",
   "metadata": {},
   "source": [
    "### Build circuit"
   ]
  },
  {
   "cell_type": "code",
   "execution_count": 8,
   "metadata": {},
   "outputs": [],
   "source": [
    "def qaoa_circ(G, p, betas, gammas):\n",
    "    N = G.number_of_nodes()\n",
    "    qc = QuantumCircuit(N, N)\n",
    "    \n",
    "    qc.h(range(N))\n",
    "    \n",
    "    for layer in range(p):\n",
    "        qc += U_C(G, gammas[layer])\n",
    "        qc.barrier(range(N))\n",
    "        qc += U_B(G, betas[layer])\n",
    "        qc.barrier(range(N))\n",
    "\n",
    "    qc.measure(range(N), range(N))\n",
    "    \n",
    "    return qc"
   ]
  },
  {
   "cell_type": "code",
   "execution_count": 9,
   "metadata": {},
   "outputs": [
    {
     "data": {
      "text/html": [
       "<pre style=\"word-wrap: normal;white-space: pre;background: #fff0;line-height: 1.1;font-family: &quot;Courier New&quot;,Courier,monospace\">     ┌───┐           ┌────────┐            ┌────────┐                     »\n",
       "q_0: ┤ H ├─────■─────┤ P(π/6) ├─────■──────┤ P(π/6) ├─────────────────────»\n",
       "     ├───┤┌────┴────┐├────────┤     │      └────────┘┌────────┐           »\n",
       "q_1: ┤ H ├┤ P(-π/3) ├┤ P(π/6) ├─────┼──────────■─────┤ P(π/6) ├───────────»\n",
       "     ├───┤└─────────┘└────────┘     │     ┌────┴────┐├────────┤┌─────────┐»\n",
       "q_2: ┤ H ├──────────────────────────┼─────┤ P(-π/3) ├┤ P(π/6) ├┤ P(-π/3) ├»\n",
       "     ├───┤                     ┌────┴────┐└┬────────┤└────────┘└────┬────┘»\n",
       "q_3: ┤ H ├─────────────────────┤ P(-π/3) ├─┤ P(π/6) ├───────────────■─────»\n",
       "     └───┘                     └─────────┘ └────────┘                     »\n",
       "c: 4/═════════════════════════════════════════════════════════════════════»\n",
       "                                                                          »\n",
       "«                ░ ┌──────────┐ ░            ┌────────┐            ┌────────┐»\n",
       "«q_0: ───────────░─┤ RX(2π/3) ├─░──────■─────┤ P(π/4) ├─────■──────┤ P(π/4) ├»\n",
       "«                ░ ├──────────┤ ░ ┌────┴────┐├────────┤     │      └────────┘»\n",
       "«q_1: ───────────░─┤ RX(2π/3) ├─░─┤ P(-π/2) ├┤ P(π/4) ├─────┼──────────■─────»\n",
       "«     ┌────────┐ ░ ├──────────┤ ░ └─────────┘└────────┘     │     ┌────┴────┐»\n",
       "«q_2: ┤ P(π/6) ├─░─┤ RX(2π/3) ├─░───────────────────────────┼─────┤ P(-π/2) ├»\n",
       "«     ├────────┤ ░ ├──────────┤ ░                      ┌────┴────┐└┬────────┤»\n",
       "«q_3: ┤ P(π/6) ├─░─┤ RX(2π/3) ├─░──────────────────────┤ P(-π/2) ├─┤ P(π/4) ├»\n",
       "«     └────────┘ ░ └──────────┘ ░                      └─────────┘ └────────┘»\n",
       "«c: 4/═══════════════════════════════════════════════════════════════════════»\n",
       "«                                                                            »\n",
       "«                                     ░ ┌───────┐ ░ ┌─┐         \n",
       "«q_0: ────────────────────────────────░─┤ RX(π) ├─░─┤M├─────────\n",
       "«     ┌────────┐                      ░ ├───────┤ ░ └╥┘┌─┐      \n",
       "«q_1: ┤ P(π/4) ├──────────────────────░─┤ RX(π) ├─░──╫─┤M├──────\n",
       "«     ├────────┤┌─────────┐┌────────┐ ░ ├───────┤ ░  ║ └╥┘┌─┐   \n",
       "«q_2: ┤ P(π/4) ├┤ P(-π/2) ├┤ P(π/4) ├─░─┤ RX(π) ├─░──╫──╫─┤M├───\n",
       "«     └────────┘└────┬────┘├────────┤ ░ ├───────┤ ░  ║  ║ └╥┘┌─┐\n",
       "«q_3: ───────────────■─────┤ P(π/4) ├─░─┤ RX(π) ├─░──╫──╫──╫─┤M├\n",
       "«                          └────────┘ ░ └───────┘ ░  ║  ║  ║ └╥┘\n",
       "«c: 4/═══════════════════════════════════════════════╩══╩══╩══╩═\n",
       "«                                                    0  1  2  3 </pre>"
      ],
      "text/plain": [
       "     ┌───┐           ┌────────┐            ┌────────┐                     »\n",
       "q_0: ┤ H ├─────■─────┤ P(π/6) ├─────■──────┤ P(π/6) ├─────────────────────»\n",
       "     ├───┤┌────┴────┐├────────┤     │      └────────┘┌────────┐           »\n",
       "q_1: ┤ H ├┤ P(-π/3) ├┤ P(π/6) ├─────┼──────────■─────┤ P(π/6) ├───────────»\n",
       "     ├───┤└─────────┘└────────┘     │     ┌────┴────┐├────────┤┌─────────┐»\n",
       "q_2: ┤ H ├──────────────────────────┼─────┤ P(-π/3) ├┤ P(π/6) ├┤ P(-π/3) ├»\n",
       "     ├───┤                     ┌────┴────┐└┬────────┤└────────┘└────┬────┘»\n",
       "q_3: ┤ H ├─────────────────────┤ P(-π/3) ├─┤ P(π/6) ├───────────────■─────»\n",
       "     └───┘                     └─────────┘ └────────┘                     »\n",
       "c: 4/═════════════════════════════════════════════════════════════════════»\n",
       "                                                                          »\n",
       "«                ░ ┌──────────┐ ░            ┌────────┐            ┌────────┐»\n",
       "«q_0: ───────────░─┤ RX(2π/3) ├─░──────■─────┤ P(π/4) ├─────■──────┤ P(π/4) ├»\n",
       "«                ░ ├──────────┤ ░ ┌────┴────┐├────────┤     │      └────────┘»\n",
       "«q_1: ───────────░─┤ RX(2π/3) ├─░─┤ P(-π/2) ├┤ P(π/4) ├─────┼──────────■─────»\n",
       "«     ┌────────┐ ░ ├──────────┤ ░ └─────────┘└────────┘     │     ┌────┴────┐»\n",
       "«q_2: ┤ P(π/6) ├─░─┤ RX(2π/3) ├─░───────────────────────────┼─────┤ P(-π/2) ├»\n",
       "«     ├────────┤ ░ ├──────────┤ ░                      ┌────┴────┐└┬────────┤»\n",
       "«q_3: ┤ P(π/6) ├─░─┤ RX(2π/3) ├─░──────────────────────┤ P(-π/2) ├─┤ P(π/4) ├»\n",
       "«     └────────┘ ░ └──────────┘ ░                      └─────────┘ └────────┘»\n",
       "«c: 4/═══════════════════════════════════════════════════════════════════════»\n",
       "«                                                                            »\n",
       "«                                     ░ ┌───────┐ ░ ┌─┐         \n",
       "«q_0: ────────────────────────────────░─┤ RX(π) ├─░─┤M├─────────\n",
       "«     ┌────────┐                      ░ ├───────┤ ░ └╥┘┌─┐      \n",
       "«q_1: ┤ P(π/4) ├──────────────────────░─┤ RX(π) ├─░──╫─┤M├──────\n",
       "«     ├────────┤┌─────────┐┌────────┐ ░ ├───────┤ ░  ║ └╥┘┌─┐   \n",
       "«q_2: ┤ P(π/4) ├┤ P(-π/2) ├┤ P(π/4) ├─░─┤ RX(π) ├─░──╫──╫─┤M├───\n",
       "«     └────────┘└────┬────┘├────────┤ ░ ├───────┤ ░  ║  ║ └╥┘┌─┐\n",
       "«q_3: ───────────────■─────┤ P(π/4) ├─░─┤ RX(π) ├─░──╫──╫──╫─┤M├\n",
       "«                          └────────┘ ░ └───────┘ ░  ║  ║  ║ └╥┘\n",
       "«c: 4/═══════════════════════════════════════════════╩══╩══╩══╩═\n",
       "«                                                    0  1  2  3 "
      ]
     },
     "execution_count": 9,
     "metadata": {},
     "output_type": "execute_result"
    }
   ],
   "source": [
    "# Draw the full circut for validation\n",
    "betas = [np.pi/3, np.pi/2]\n",
    "gammas = [np.pi/6, np.pi/4]\n",
    "p = 2\n",
    "qc = qaoa_circ(G, p, betas, gammas)\n",
    "qc.draw()"
   ]
  },
  {
   "cell_type": "markdown",
   "metadata": {},
   "source": [
    "### Define objective function\n"
   ]
  },
  {
   "cell_type": "code",
   "execution_count": 10,
   "metadata": {},
   "outputs": [],
   "source": [
    "def maxcut_cost(cut, G):\n",
    "    cut_cost = 0\n",
    "    for i, j in G.edges():\n",
    "        if cut[i] != cut[j]: # the edge is cut\n",
    "            cut_cost -= G[i][j]['weight']\n",
    "\n",
    "    return cut_cost\n",
    "# maxcut_cost('00110', G)"
   ]
  },
  {
   "cell_type": "code",
   "execution_count": 11,
   "metadata": {},
   "outputs": [],
   "source": [
    "def compute_energy(samples, G):\n",
    "    '''Compute the average energy over all of the samples'''\n",
    "    energy = 0\n",
    "    total_counts = 0\n",
    "    \n",
    "    for cut, cut_count in samples.items():\n",
    "        energy += maxcut_cost(cut, G) * cut_count \n",
    "        total_counts += cut_count\n",
    "    \n",
    "    return energy / total_counts"
   ]
  },
  {
   "cell_type": "code",
   "execution_count": 12,
   "metadata": {},
   "outputs": [],
   "source": [
    "def objective_fn(theta, G, p, backend):\n",
    "    '''Objective function to be minimized by the optimizer'''\n",
    "    beta = theta[:p]\n",
    "    gamma = theta[p:]\n",
    "    \n",
    "    qc = qaoa_circ(G, p, beta, gamma)\n",
    "    counts = execute(qc, backend, seed_simulator=10).result().get_counts()\n",
    "   \n",
    "    return compute_energy(invert_counts(counts), G)\n"
   ]
  },
  {
   "cell_type": "markdown",
   "metadata": {},
   "source": [
    "### Optimize parameters"
   ]
  },
  {
   "cell_type": "code",
   "execution_count": 13,
   "metadata": {},
   "outputs": [],
   "source": [
    "def optimize(objective_fn, init_point, p, G, backend, optimizer='COBYLA'):\n",
    "    \n",
    "    res_sample = minimize(objective_fn, init_point, args=(G, p, backend), \n",
    "                      method='COBYLA', options={'maxiter':2000, 'disp': True})\n",
    "    optimal_theta = res_sample['x']\n",
    "    \n",
    "    return res_sample, optimal_theta\n"
   ]
  },
  {
   "cell_type": "markdown",
   "metadata": {},
   "source": [
    "### Extract and interpret results"
   ]
  },
  {
   "cell_type": "code",
   "execution_count": 14,
   "metadata": {},
   "outputs": [],
   "source": [
    "def draw_graph(G, colors=None):\n",
    "    labels = nx.get_edge_attributes(G, 'weight')\n",
    "    pos = nx.spring_layout(G)\n",
    "    nx.draw_networkx(G, pos=pos, node_size=550, node_color=colors)\n",
    "    nx.draw_networkx_edge_labels(G, pos, edge_labels=labels)"
   ]
  },
  {
   "cell_type": "code",
   "execution_count": 15,
   "metadata": {},
   "outputs": [
    {
     "data": {
      "image/png": "[encoded data removed]",
      "text/plain": [
       "<Figure size 432x288 with 1 Axes>"
      ]
     },
     "metadata": {},
     "output_type": "display_data"
    }
   ],
   "source": [
    "def generate_graph(degree, nodes):\n",
    "    '''Generate a n-degree regular weighted graph'''\n",
    "    G = random_regular_graph(degree, nodes, seed=42)\n",
    "    for (u,v,w) in G.edges(data=True):\n",
    "        w['weight'] = round(np.random.uniform(0.1, 1.0), 2)\n",
    "    \n",
    "    return G\n",
    "\n",
    "G = generate_graph(3, 12)\n",
    "\n",
    "draw_graph(G)"
   ]
  },
  {
   "cell_type": "code",
   "execution_count": 16,
   "metadata": {},
   "outputs": [],
   "source": [
    "# Set initial parameters\n",
    "\n",
    "p = 6\n",
    "gammas = np.random.uniform(0, 2*np.pi,[p])\n",
    "betas = np.random.uniform(0, np.pi,[p])\n",
    "\n",
    "init_point = [*gammas, *betas]\n",
    "backend = Aer.get_backend('qasm_simulator')"
   ]
  },
  {
   "cell_type": "code",
   "execution_count": 17,
   "metadata": {},
   "outputs": [
    {
     "data": {
      "text/plain": [
       "     fun: -8.31409179687499\n",
       "   maxcv: 0.0\n",
       " message: 'Optimization terminated successfully.'\n",
       "    nfev: 155\n",
       "  status: 1\n",
       " success: True\n",
       "       x: array([3.32203343, 2.31733262, 1.02022922, 5.78416645, 6.10514605,\n",
       "       4.99061848, 1.1325807 , 2.21531321, 2.73899017, 0.16290989,\n",
       "       1.27916377, 1.97901946])"
      ]
     },
     "execution_count": 17,
     "metadata": {},
     "output_type": "execute_result"
    }
   ],
   "source": [
    "# Run the optimizer\n",
    "res_sample, optimal_theta = optimize(objective_fn, init_point, p, G, backend, optimizer='COBYLA')\n",
    "res_sample"
   ]
  },
  {
   "cell_type": "code",
   "execution_count": 18,
   "metadata": {},
   "outputs": [
    {
     "name": "stdout",
     "output_type": "stream",
     "text": [
      "Best string: 010110001110 with cut: 10.0\n"
     ]
    },
    {
     "data": {
      "image/png": "[encoded data removed]",
      "text/plain": [
       "<Figure size 432x288 with 1 Axes>"
      ]
     },
     "metadata": {},
     "output_type": "display_data"
    }
   ],
   "source": [
    "# Run the circuit with the optimal generated parameters\n",
    "\n",
    "qc = qaoa_circ(G, p, optimal_theta[:p], optimal_theta[p:])\n",
    "counts = invert_counts(execute(qc, backend).result().get_counts())\n",
    "\n",
    "# Get the best solution\n",
    "best_solution, best_cut  = min([(cut, maxcut_cost(cut, G)) for cut in counts.keys()], key=itemgetter(1))\n",
    "\n",
    "# Color the graph nodes by partition\n",
    "colors = ['r' if best_solution[node] == '0' else 'c' for node in G]\n",
    "draw_graph(G, colors=colors)\n",
    "\n",
    "print(f\"Best string: {best_solution} with cut: {-best_cut}\")"
   ]
  },
  {
   "cell_type": "code",
   "execution_count": 19,
   "metadata": {},
   "outputs": [
    {
     "data": {
      "text/plain": [
       "<BarContainer object of 158 artists>"
      ]
     },
     "execution_count": 19,
     "metadata": {},
     "output_type": "execute_result"
    },
    {
     "data": {
      "image/png": "[encoded data removed]",
      "text/plain": [
       "<Figure size 432x288 with 1 Axes>"
      ]
     },
     "metadata": {
      "needs_background": "light"
     },
     "output_type": "display_data"
    }
   ],
   "source": [
    "def get_energies(counts):\n",
    "    '''Count the energy values of the samples'''\n",
    "    energies = defaultdict(int)\n",
    "    \n",
    "    for k, v in counts.items():\n",
    "        energies[maxcut_cost(k,G)] += v\n",
    "    \n",
    "    return energies\n",
    "\n",
    "\n",
    "energs = get_energies(counts)\n",
    "x,y = zip(*energs.items())\n",
    "plt.bar(x,y)"
   ]
  },
  {
   "cell_type": "markdown",
   "metadata": {},
   "source": [
    "We notice that most of the results correspond to good solutions as minimizing the average energy of the samples greatly increases the number of solutions that have near minimum energy.\n",
    "\n",
    "Even though the resulting solution with the highest probability can be suboptimal, QAOA is a good approach for solving the MaxCut problem for weighted graphs and it helps define an upper bound of the solution space, very close to the optimal solution.\n",
    "\n",
    "Increasing the $p$ parameter can improve even more the overall obtained energy."
   ]
  },
  {
   "cell_type": "markdown",
   "metadata": {},
   "source": [
    "## Future improvements\n",
    "\n",
    "A few points in the implementation can be improved in future work:\n",
    "\n",
    "* Choosing better initial points for $\\gamma$ and $\\beta$ parameters: there are additional strategies ([2]) that can greatly improve the optimization process, such as the **FOURIER** strategy, which computes  $\\gamma$, $\\beta$ parameters using a $sin$/$cos$ transform and avoids getting the optimizer stuck in points of local minimum by adding perturbations.\n",
    "\n",
    "* Limiting the number of qubits: the current approach uses a number of qubits equal to the number of graph nodes which limits the size of the graphs that can be processed with this algorithm. "
   ]
  },
  {
   "cell_type": "markdown",
   "metadata": {},
   "source": [
    "### References\n",
    "\n",
    "1. [Performance of the Quantum Approximate Optimization Algorithm on the Maximum Cut Problem](https://arxiv.org/pdf/1811.08419.pdf)\n",
    "1. [Quantum Approximate Optimization Algorithm: Performance, Mechanism, and\n",
    "Implementation on Near-Term Devices](https://arxiv.org/pdf/1812.01041.pdf)\n",
    "1. [A Quantum Approximate Optimization Algorithm](https://arxiv.org/pdf/1411.4028.pdf)\n",
    "1. [Quantum Approximate Optimization Algorithm explained](https://www.mustythoughts.com/quantum-approximate-optimization-algorithm-explained)\n",
    "1. [Combinatorial Optimization on Quantum Computers](https://github.com/rsln-s/IEEE_QW_2020)\n",
    "1. [Qiskit textbook](https://qiskit.org/textbook/ch-applications/qaoa.html)\n",
    "1. [QAOA for MaxCut](https://pennylane.ai/qml/demos/tutorial_qaoa_maxcut.html)\n"
   ]
  }
 ],
 "metadata": {
  "kernelspec": {
   "display_name": "Python 3",
   "language": "python",
   "name": "python3"
  },
  "language_info": {
   "codemirror_mode": {
    "name": "ipython",
    "version": 3
   },
   "file_extension": ".py",
   "mimetype": "text/x-python",
   "name": "python",
   "nbconvert_exporter": "python",
   "pygments_lexer": "ipython3",
   "version": "3.8.1"
  }
 },
 "nbformat": 4,
 "nbformat_minor": 4
}
